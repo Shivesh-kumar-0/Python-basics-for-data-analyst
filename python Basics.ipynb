{
 "cells": [
  {
   "cell_type": "markdown",
   "id": "1430f8d4",
   "metadata": {},
   "source": [
    "# DataTypes"
   ]
  },
  {
   "cell_type": "code",
   "execution_count": 1,
   "id": "dd0248ab",
   "metadata": {},
   "outputs": [],
   "source": [
    "s1=\"shivesh\" #string"
   ]
  },
  {
   "cell_type": "code",
   "execution_count": 2,
   "id": "5bd663d7",
   "metadata": {},
   "outputs": [],
   "source": [
    "s1='''shivesh''' #it is also known as comment but if we'll asssign it after variable then it's no more a comment"
   ]
  },
  {
   "cell_type": "code",
   "execution_count": 3,
   "id": "8a2c0c60",
   "metadata": {},
   "outputs": [],
   "source": [
    "s1='shivu' #string in single quote we can also write it "
   ]
  },
  {
   "cell_type": "code",
   "execution_count": 4,
   "id": "be0d8299",
   "metadata": {},
   "outputs": [],
   "source": [
    "i1=10 #integer"
   ]
  },
  {
   "cell_type": "code",
   "execution_count": 5,
   "id": "ded9bdd4",
   "metadata": {},
   "outputs": [],
   "source": [
    "f1=10.3 #float"
   ]
  },
  {
   "cell_type": "code",
   "execution_count": 6,
   "id": "77607c17",
   "metadata": {},
   "outputs": [],
   "source": [
    "b1=True"
   ]
  },
  {
   "cell_type": "code",
   "execution_count": 7,
   "id": "22a465ab",
   "metadata": {},
   "outputs": [],
   "source": [
    "n1=None"
   ]
  },
  {
   "cell_type": "markdown",
   "id": "48085330",
   "metadata": {},
   "source": [
    "# checking"
   ]
  },
  {
   "cell_type": "code",
   "execution_count": 8,
   "id": "5b46d0f8",
   "metadata": {},
   "outputs": [
    {
     "data": {
      "text/plain": [
       "str"
      ]
     },
     "execution_count": 8,
     "metadata": {},
     "output_type": "execute_result"
    }
   ],
   "source": [
    "type(s1)"
   ]
  },
  {
   "cell_type": "code",
   "execution_count": 9,
   "id": "10d66070",
   "metadata": {},
   "outputs": [
    {
     "data": {
      "text/plain": [
       "int"
      ]
     },
     "execution_count": 9,
     "metadata": {},
     "output_type": "execute_result"
    }
   ],
   "source": [
    "type(i1)"
   ]
  },
  {
   "cell_type": "code",
   "execution_count": 10,
   "id": "d163a035",
   "metadata": {},
   "outputs": [
    {
     "data": {
      "text/plain": [
       "float"
      ]
     },
     "execution_count": 10,
     "metadata": {},
     "output_type": "execute_result"
    }
   ],
   "source": [
    "type(f1)"
   ]
  },
  {
   "cell_type": "code",
   "execution_count": 11,
   "id": "d82a0ec1",
   "metadata": {},
   "outputs": [
    {
     "data": {
      "text/plain": [
       "bool"
      ]
     },
     "execution_count": 11,
     "metadata": {},
     "output_type": "execute_result"
    }
   ],
   "source": [
    "type(b1)"
   ]
  },
  {
   "cell_type": "code",
   "execution_count": 12,
   "id": "b8605fc2",
   "metadata": {},
   "outputs": [
    {
     "data": {
      "text/plain": [
       "NoneType"
      ]
     },
     "execution_count": 12,
     "metadata": {},
     "output_type": "execute_result"
    }
   ],
   "source": [
    "type(n1)"
   ]
  },
  {
   "cell_type": "markdown",
   "id": "926f246d",
   "metadata": {},
   "source": [
    "# Arithmetic program"
   ]
  },
  {
   "cell_type": "code",
   "execution_count": 13,
   "id": "33956961",
   "metadata": {},
   "outputs": [],
   "source": [
    "a=3\n",
    "b=4"
   ]
  },
  {
   "cell_type": "code",
   "execution_count": 14,
   "id": "813d3efc",
   "metadata": {},
   "outputs": [
    {
     "name": "stdout",
     "output_type": "stream",
     "text": [
      "my name is w 7\n"
     ]
    }
   ],
   "source": [
    "print(\"my name is w\",a+b)"
   ]
  },
  {
   "cell_type": "code",
   "execution_count": 15,
   "id": "d0415adf",
   "metadata": {},
   "outputs": [
    {
     "name": "stdout",
     "output_type": "stream",
     "text": [
      "my name is w 7\n"
     ]
    }
   ],
   "source": [
    "print(\"my name is w\",3+4)"
   ]
  },
  {
   "cell_type": "code",
   "execution_count": 16,
   "id": "621ac657",
   "metadata": {},
   "outputs": [
    {
     "name": "stdout",
     "output_type": "stream",
     "text": [
      "my name is w 12\n"
     ]
    }
   ],
   "source": [
    "print(\"my name is w\",3*4)"
   ]
  },
  {
   "cell_type": "markdown",
   "id": "3368f18f",
   "metadata": {},
   "source": [
    "# Assignment operator"
   ]
  },
  {
   "cell_type": "code",
   "execution_count": 17,
   "id": "34d804e4",
   "metadata": {},
   "outputs": [],
   "source": [
    "a=10\n",
    "a+=5"
   ]
  },
  {
   "cell_type": "code",
   "execution_count": 18,
   "id": "60b68726",
   "metadata": {},
   "outputs": [
    {
     "name": "stdout",
     "output_type": "stream",
     "text": [
      "15\n"
     ]
    }
   ],
   "source": [
    "print(a)"
   ]
  },
  {
   "cell_type": "code",
   "execution_count": 19,
   "id": "b949376d",
   "metadata": {},
   "outputs": [],
   "source": [
    "a1=10\n",
    "a1+=5\n",
    "a1*=5\n",
    "a1/=5\n"
   ]
  },
  {
   "cell_type": "code",
   "execution_count": 20,
   "id": "69716a2b",
   "metadata": {},
   "outputs": [
    {
     "name": "stdout",
     "output_type": "stream",
     "text": [
      "15.0\n"
     ]
    }
   ],
   "source": [
    "print(a1)"
   ]
  },
  {
   "cell_type": "markdown",
   "id": "500c0885",
   "metadata": {},
   "source": [
    "# Comparison operator"
   ]
  },
  {
   "cell_type": "code",
   "execution_count": 21,
   "id": "67498de6",
   "metadata": {},
   "outputs": [],
   "source": [
    "b=4>7"
   ]
  },
  {
   "cell_type": "code",
   "execution_count": 22,
   "id": "58c09914",
   "metadata": {},
   "outputs": [
    {
     "name": "stdout",
     "output_type": "stream",
     "text": [
      "False\n"
     ]
    }
   ],
   "source": [
    "print(b)"
   ]
  },
  {
   "cell_type": "code",
   "execution_count": 23,
   "id": "80b4165b",
   "metadata": {},
   "outputs": [],
   "source": [
    "b1=4<7"
   ]
  },
  {
   "cell_type": "code",
   "execution_count": 24,
   "id": "8e3061f4",
   "metadata": {},
   "outputs": [
    {
     "data": {
      "text/plain": [
       "True"
      ]
     },
     "execution_count": 24,
     "metadata": {},
     "output_type": "execute_result"
    }
   ],
   "source": [
    "b1"
   ]
  },
  {
   "cell_type": "code",
   "execution_count": 25,
   "id": "78e82b16",
   "metadata": {},
   "outputs": [],
   "source": [
    "b=4==7"
   ]
  },
  {
   "cell_type": "code",
   "execution_count": 26,
   "id": "35488789",
   "metadata": {},
   "outputs": [
    {
     "name": "stdout",
     "output_type": "stream",
     "text": [
      "False\n"
     ]
    }
   ],
   "source": [
    "print(b)"
   ]
  },
  {
   "cell_type": "markdown",
   "id": "8e1c96ec",
   "metadata": {},
   "source": [
    "# Logical operators"
   ]
  },
  {
   "cell_type": "code",
   "execution_count": 27,
   "id": "9aeee011",
   "metadata": {},
   "outputs": [],
   "source": [
    "bool1=True\n",
    "bool2=False"
   ]
  },
  {
   "cell_type": "code",
   "execution_count": 28,
   "id": "f369fdd4",
   "metadata": {},
   "outputs": [
    {
     "name": "stdout",
     "output_type": "stream",
     "text": [
      "value of bool1 and bool2 False\n"
     ]
    }
   ],
   "source": [
    "print(\"value of bool1 and bool2\",(bool1 and bool2))"
   ]
  },
  {
   "cell_type": "code",
   "execution_count": 29,
   "id": "a79b2716",
   "metadata": {},
   "outputs": [
    {
     "name": "stdout",
     "output_type": "stream",
     "text": [
      "value of bool1 and bool2 True\n"
     ]
    }
   ],
   "source": [
    "print(\"value of bool1 and bool2\",(bool1 or bool2))"
   ]
  },
  {
   "cell_type": "code",
   "execution_count": 30,
   "id": "8dcf7a49",
   "metadata": {},
   "outputs": [
    {
     "name": "stdout",
     "output_type": "stream",
     "text": [
      "value of bool1 and bool2 True\n"
     ]
    }
   ],
   "source": [
    "print(\"value of bool1 and bool2\",(not bool2))"
   ]
  },
  {
   "cell_type": "markdown",
   "id": "5b7afed1",
   "metadata": {},
   "source": [
    "# Typecasting"
   ]
  },
  {
   "cell_type": "code",
   "execution_count": 31,
   "id": "9dbd6752",
   "metadata": {},
   "outputs": [],
   "source": [
    "a=\"30\" # this is string not integer becz it's under double quote\n",
    "a1=int(a)"
   ]
  },
  {
   "cell_type": "code",
   "execution_count": 32,
   "id": "b7b870e7",
   "metadata": {},
   "outputs": [
    {
     "name": "stdout",
     "output_type": "stream",
     "text": [
      "35\n"
     ]
    }
   ],
   "source": [
    "print(a1+5)"
   ]
  },
  {
   "cell_type": "code",
   "execution_count": 33,
   "id": "a9508216",
   "metadata": {},
   "outputs": [
    {
     "data": {
      "text/plain": [
       "str"
      ]
     },
     "execution_count": 33,
     "metadata": {},
     "output_type": "execute_result"
    }
   ],
   "source": [
    "type(a)"
   ]
  },
  {
   "cell_type": "code",
   "execution_count": 34,
   "id": "bdb502e3",
   "metadata": {},
   "outputs": [
    {
     "data": {
      "text/plain": [
       "int"
      ]
     },
     "execution_count": 34,
     "metadata": {},
     "output_type": "execute_result"
    }
   ],
   "source": [
    "type(a1) # here it converted into integer "
   ]
  },
  {
   "cell_type": "code",
   "execution_count": 35,
   "id": "323fc84e",
   "metadata": {},
   "outputs": [],
   "source": [
    "asd=34 #integer"
   ]
  },
  {
   "cell_type": "code",
   "execution_count": 36,
   "id": "9297ddf4",
   "metadata": {},
   "outputs": [],
   "source": [
    "asd=str(asd) #converting into str"
   ]
  },
  {
   "cell_type": "code",
   "execution_count": 37,
   "id": "5a54e87b",
   "metadata": {},
   "outputs": [
    {
     "data": {
      "text/plain": [
       "str"
      ]
     },
     "execution_count": 37,
     "metadata": {},
     "output_type": "execute_result"
    }
   ],
   "source": [
    "type(asd)"
   ]
  },
  {
   "cell_type": "markdown",
   "id": "8dd56a49",
   "metadata": {},
   "source": [
    "# Input function"
   ]
  },
  {
   "cell_type": "markdown",
   "id": "1cdeaab7",
   "metadata": {},
   "source": [
    "# very interesting function"
   ]
  },
  {
   "cell_type": "code",
   "execution_count": 40,
   "id": "d8c2ffc4",
   "metadata": {},
   "outputs": [
    {
     "name": "stdout",
     "output_type": "stream",
     "text": [
      "enter your nameShivesh Kumar\n"
     ]
    }
   ],
   "source": [
    "nm=input(\"enter your name\")"
   ]
  },
  {
   "cell_type": "markdown",
   "id": "8511b87a",
   "metadata": {},
   "source": [
    "# STRINGS"
   ]
  },
  {
   "cell_type": "code",
   "execution_count": 41,
   "id": "6eaed412",
   "metadata": {},
   "outputs": [
    {
     "name": "stdout",
     "output_type": "stream",
     "text": [
      "20 shivu\n"
     ]
    }
   ],
   "source": [
    "a=20\n",
    "b=\"shivu\"\n",
    "print(a,b)"
   ]
  },
  {
   "cell_type": "markdown",
   "id": "e113651f",
   "metadata": {},
   "source": [
    "# string slicing"
   ]
  },
  {
   "cell_type": "code",
   "execution_count": 44,
   "id": "7b15b8dd",
   "metadata": {},
   "outputs": [
    {
     "data": {
      "text/plain": [
       "'s'"
      ]
     },
     "execution_count": 44,
     "metadata": {},
     "output_type": "execute_result"
    }
   ],
   "source": [
    " b[0]"
   ]
  },
  {
   "cell_type": "code",
   "execution_count": 46,
   "id": "2a5f905c",
   "metadata": {},
   "outputs": [
    {
     "data": {
      "text/plain": [
       "'shivu'"
      ]
     },
     "execution_count": 46,
     "metadata": {},
     "output_type": "execute_result"
    }
   ],
   "source": [
    "b[0:6]"
   ]
  },
  {
   "cell_type": "code",
   "execution_count": 51,
   "id": "49b540d9",
   "metadata": {},
   "outputs": [
    {
     "data": {
      "text/plain": [
       "'u'"
      ]
     },
     "execution_count": 51,
     "metadata": {},
     "output_type": "execute_result"
    }
   ],
   "source": [
    "b[-1]"
   ]
  },
  {
   "cell_type": "markdown",
   "id": "8c21af79",
   "metadata": {},
   "source": [
    "# concating twon string"
   ]
  },
  {
   "cell_type": "code",
   "execution_count": 50,
   "id": "39d9e2e3",
   "metadata": {},
   "outputs": [
    {
     "name": "stdout",
     "output_type": "stream",
     "text": [
      "hello shivesh how are you\n"
     ]
    }
   ],
   "source": [
    "s11=\"hello shivesh \"\n",
    "s22=\"how are you\"\n",
    "print(s11+s22)"
   ]
  },
  {
   "cell_type": "code",
   "execution_count": 68,
   "id": "a3614beb",
   "metadata": {},
   "outputs": [],
   "source": [
    "story=\"my name is shivesh and i'm learning python is\""
   ]
  },
  {
   "cell_type": "code",
   "execution_count": 69,
   "id": "1b75ed81",
   "metadata": {},
   "outputs": [
    {
     "data": {
      "text/plain": [
       "45"
      ]
     },
     "execution_count": 69,
     "metadata": {},
     "output_type": "execute_result"
    }
   ],
   "source": [
    "len(story)"
   ]
  },
  {
   "cell_type": "code",
   "execution_count": 70,
   "id": "516b4a2d",
   "metadata": {},
   "outputs": [
    {
     "data": {
      "text/plain": [
       "False"
      ]
     },
     "execution_count": 70,
     "metadata": {},
     "output_type": "execute_result"
    }
   ],
   "source": [
    "story.endswith(\"rty\")"
   ]
  },
  {
   "cell_type": "code",
   "execution_count": 71,
   "id": "8934d394",
   "metadata": {},
   "outputs": [
    {
     "data": {
      "text/plain": [
       "False"
      ]
     },
     "execution_count": 71,
     "metadata": {},
     "output_type": "execute_result"
    }
   ],
   "source": [
    "story.endswith(\"python\")"
   ]
  },
  {
   "cell_type": "code",
   "execution_count": 73,
   "id": "d4d5f594",
   "metadata": {},
   "outputs": [
    {
     "data": {
      "text/plain": [
       "2"
      ]
     },
     "execution_count": 73,
     "metadata": {},
     "output_type": "execute_result"
    }
   ],
   "source": [
    "story.count('is')"
   ]
  },
  {
   "cell_type": "code",
   "execution_count": 74,
   "id": "7f6ed361",
   "metadata": {},
   "outputs": [
    {
     "data": {
      "text/plain": [
       "\"My name is shivesh and i'm learning python is\""
      ]
     },
     "execution_count": 74,
     "metadata": {},
     "output_type": "execute_result"
    }
   ],
   "source": [
    "story.capitalize()"
   ]
  },
  {
   "cell_type": "code",
   "execution_count": 75,
   "id": "d0d1224a",
   "metadata": {},
   "outputs": [
    {
     "data": {
      "text/plain": [
       "11"
      ]
     },
     "execution_count": 75,
     "metadata": {},
     "output_type": "execute_result"
    }
   ],
   "source": [
    "story.find(\"shivesh\")"
   ]
  },
  {
   "cell_type": "code",
   "execution_count": 76,
   "id": "6219a5d5",
   "metadata": {},
   "outputs": [
    {
     "data": {
      "text/plain": [
       "\"my name is shivu and i'm learning python is\""
      ]
     },
     "execution_count": 76,
     "metadata": {},
     "output_type": "execute_result"
    }
   ],
   "source": [
    "story.replace(\"shivesh\",\"shivu\")"
   ]
  },
  {
   "cell_type": "markdown",
   "id": "f0a32c02",
   "metadata": {},
   "source": [
    "# List and Tupple"
   ]
  },
  {
   "cell_type": "code",
   "execution_count": 78,
   "id": "a4aa054d",
   "metadata": {},
   "outputs": [],
   "source": [
    "list1 = [1,2,\"shivu\",23,5,6,7,7865,46]"
   ]
  },
  {
   "cell_type": "code",
   "execution_count": 90,
   "id": "1b415f7c",
   "metadata": {},
   "outputs": [
    {
     "data": {
      "text/plain": [
       "[1, 2, 5, 6, 7, 10, 23, 46, 7865]"
      ]
     },
     "execution_count": 90,
     "metadata": {},
     "output_type": "execute_result"
    }
   ],
   "source": [
    "list1"
   ]
  },
  {
   "cell_type": "code",
   "execution_count": 81,
   "id": "e2fea23f",
   "metadata": {},
   "outputs": [],
   "source": [
    "list1[2]=10"
   ]
  },
  {
   "cell_type": "code",
   "execution_count": 83,
   "id": "8ff46495",
   "metadata": {},
   "outputs": [
    {
     "data": {
      "text/plain": [
       "[1, 2, 10, 23, 5, 6, 7, 7865, 46]"
      ]
     },
     "execution_count": 83,
     "metadata": {},
     "output_type": "execute_result"
    }
   ],
   "source": [
    "list1 #it replaced \"shivu\" with 10 because shivu was at 2 position "
   ]
  },
  {
   "cell_type": "code",
   "execution_count": 84,
   "id": "bbc8c634",
   "metadata": {},
   "outputs": [],
   "source": [
    "tupple= (1,2,3,\"shivu\",\"love\")"
   ]
  },
  {
   "cell_type": "code",
   "execution_count": 85,
   "id": "7236ca61",
   "metadata": {},
   "outputs": [
    {
     "data": {
      "text/plain": [
       "(1, 2, 3, 'shivu', 'love')"
      ]
     },
     "execution_count": 85,
     "metadata": {},
     "output_type": "execute_result"
    }
   ],
   "source": [
    "tupple"
   ]
  },
  {
   "cell_type": "code",
   "execution_count": 87,
   "id": "73f9e911",
   "metadata": {},
   "outputs": [
    {
     "ename": "TypeError",
     "evalue": "'tuple' object does not support item assignment",
     "output_type": "error",
     "traceback": [
      "\u001b[1;31m---------------------------------------------------------------------------\u001b[0m",
      "\u001b[1;31mTypeError\u001b[0m                                 Traceback (most recent call last)",
      "\u001b[1;32m~\\AppData\\Local\\Temp\\ipykernel_17544\\3807822741.py\u001b[0m in \u001b[0;36m<module>\u001b[1;34m\u001b[0m\n\u001b[1;32m----> 1\u001b[1;33m \u001b[0mtupple\u001b[0m\u001b[1;33m[\u001b[0m\u001b[1;36m1\u001b[0m\u001b[1;33m]\u001b[0m\u001b[1;33m=\u001b[0m\u001b[1;34m\"once\"\u001b[0m \u001b[1;31m#tuple is imutable we can change\u001b[0m\u001b[1;33m\u001b[0m\u001b[1;33m\u001b[0m\u001b[0m\n\u001b[0m",
      "\u001b[1;31mTypeError\u001b[0m: 'tuple' object does not support item assignment"
     ]
    }
   ],
   "source": [
    "tupple[1]=\"once\" #tuple is imutable we can change "
   ]
  },
  {
   "cell_type": "code",
   "execution_count": 88,
   "id": "6bf8a99f",
   "metadata": {},
   "outputs": [
    {
     "ename": "AttributeError",
     "evalue": "'tuple' object has no attribute 'sort'",
     "output_type": "error",
     "traceback": [
      "\u001b[1;31m---------------------------------------------------------------------------\u001b[0m",
      "\u001b[1;31mAttributeError\u001b[0m                            Traceback (most recent call last)",
      "\u001b[1;32m~\\AppData\\Local\\Temp\\ipykernel_17544\\1088710474.py\u001b[0m in \u001b[0;36m<module>\u001b[1;34m\u001b[0m\n\u001b[1;32m----> 1\u001b[1;33m \u001b[0mtupple\u001b[0m\u001b[1;33m.\u001b[0m\u001b[0msort\u001b[0m\u001b[1;33m(\u001b[0m\u001b[1;33m)\u001b[0m\u001b[1;33m\u001b[0m\u001b[1;33m\u001b[0m\u001b[0m\n\u001b[0m",
      "\u001b[1;31mAttributeError\u001b[0m: 'tuple' object has no attribute 'sort'"
     ]
    }
   ],
   "source": [
    "tupple.sort()"
   ]
  },
  {
   "cell_type": "code",
   "execution_count": 99,
   "id": "8ec2a404",
   "metadata": {},
   "outputs": [
    {
     "data": {
      "text/plain": [
       "(1,)"
      ]
     },
     "execution_count": 99,
     "metadata": {},
     "output_type": "execute_result"
    }
   ],
   "source": [
    "tup=(1,)\n",
    "tup             #to make a single tuple use comma in last"
   ]
  },
  {
   "cell_type": "code",
   "execution_count": 106,
   "id": "5daa035d",
   "metadata": {},
   "outputs": [
    {
     "data": {
      "text/plain": [
       "1"
      ]
     },
     "execution_count": 106,
     "metadata": {},
     "output_type": "execute_result"
    }
   ],
   "source": [
    "tupple.count(1) # how may times 1 is in tupple"
   ]
  },
  {
   "cell_type": "markdown",
   "id": "a66fa067",
   "metadata": {},
   "source": [
    "# Dictionay and sets"
   ]
  },
  {
   "cell_type": "code",
   "execution_count": 110,
   "id": "ceadfd32",
   "metadata": {},
   "outputs": [],
   "source": [
    "dic={'name':'shivesh',\n",
    "     'college':'doon business school',\n",
    "     'course':'PGDM'}"
   ]
  },
  {
   "cell_type": "code",
   "execution_count": 114,
   "id": "b0818f4d",
   "metadata": {},
   "outputs": [
    {
     "data": {
      "text/plain": [
       "'shivesh'"
      ]
     },
     "execution_count": 114,
     "metadata": {},
     "output_type": "execute_result"
    }
   ],
   "source": [
    "dic['name']"
   ]
  },
  {
   "cell_type": "code",
   "execution_count": 126,
   "id": "e7a0ee54",
   "metadata": {},
   "outputs": [],
   "source": [
    "dic={'name':'shivesh',\n",
    "     'college':'doon business school',\n",
    "     'course':'PGDM',\n",
    "     'new_dic':{'location': 'DBS Hostel'}\n",
    "    }"
   ]
  },
  {
   "cell_type": "code",
   "execution_count": 133,
   "id": "b65fb918",
   "metadata": {},
   "outputs": [],
   "source": [
    "#we can also make nested dictionary"
   ]
  },
  {
   "cell_type": "code",
   "execution_count": 134,
   "id": "dc8600a1",
   "metadata": {},
   "outputs": [],
   "source": [
    "st={1,2,3,\"shivu\"}"
   ]
  },
  {
   "cell_type": "code",
   "execution_count": 135,
   "id": "9cc424ae",
   "metadata": {},
   "outputs": [
    {
     "name": "stdout",
     "output_type": "stream",
     "text": [
      "{1, 2, 3, 'shivu'}\n"
     ]
    }
   ],
   "source": [
    "print(st)"
   ]
  },
  {
   "cell_type": "code",
   "execution_count": 136,
   "id": "c9f5693d",
   "metadata": {},
   "outputs": [],
   "source": [
    "st.add(10)"
   ]
  },
  {
   "cell_type": "code",
   "execution_count": 137,
   "id": "7dcd7c78",
   "metadata": {},
   "outputs": [
    {
     "data": {
      "text/plain": [
       "{1, 10, 2, 3, 'shivu'}"
      ]
     },
     "execution_count": 137,
     "metadata": {},
     "output_type": "execute_result"
    }
   ],
   "source": [
    "st"
   ]
  },
  {
   "cell_type": "markdown",
   "id": "1512108e",
   "metadata": {},
   "source": [
    "# conditional expression"
   ]
  },
  {
   "cell_type": "code",
   "execution_count": 147,
   "id": "10459bbe",
   "metadata": {},
   "outputs": [
    {
     "name": "stdout",
     "output_type": "stream",
     "text": [
      "yes\n"
     ]
    }
   ],
   "source": [
    "if(1<5):\n",
    "    print(\"yes\")\n",
    "else:\n",
    "    print(\"no\")\n"
   ]
  },
  {
   "cell_type": "code",
   "execution_count": 153,
   "id": "bcf165c0",
   "metadata": {},
   "outputs": [
    {
     "name": "stdout",
     "output_type": "stream",
     "text": [
      "no\n"
     ]
    }
   ],
   "source": [
    "if(1>5):\n",
    "    print(\"yes\")\n",
    "else:\n",
    "   print( \"no\")\n"
   ]
  },
  {
   "cell_type": "code",
   "execution_count": 157,
   "id": "985fdf7d",
   "metadata": {},
   "outputs": [
    {
     "name": "stdout",
     "output_type": "stream",
     "text": [
      "hahahhaha\n"
     ]
    }
   ],
   "source": [
    "c1=1000\n",
    "if(c1==1):\n",
    "    print(\"yes\")\n",
    "elif(c1==20):\n",
    "    print(\"no\")\n",
    "else:\n",
    "     print(\"hahahhaha\")"
   ]
  },
  {
   "cell_type": "code",
   "execution_count": 171,
   "id": "e4b64361",
   "metadata": {},
   "outputs": [
    {
     "name": "stdout",
     "output_type": "stream",
     "text": [
      "yes,you are greater than 18\n"
     ]
    }
   ],
   "source": [
    "age=20\n",
    "if age>17:\n",
    "    print(\"yes,you are greater than 18\")\n",
    "else:\n",
    "    print(\"oops! sorry you are not\")"
   ]
  },
  {
   "cell_type": "markdown",
   "id": "fe024c46",
   "metadata": {},
   "source": [
    "# Looping"
   ]
  },
  {
   "cell_type": "markdown",
   "id": "a41b44c5",
   "metadata": {},
   "source": [
    "# while loop"
   ]
  },
  {
   "cell_type": "code",
   "execution_count": 1,
   "id": "1807995a",
   "metadata": {},
   "outputs": [
    {
     "name": "stdout",
     "output_type": "stream",
     "text": [
      "yes\n",
      "yes\n",
      "yes\n",
      "yes\n",
      "yes\n",
      "yes\n",
      "yes\n",
      "yes\n",
      "yes\n",
      "yes\n"
     ]
    }
   ],
   "source": [
    "i=0\n",
    "while i<10:\n",
    "    print(\"yes\")\n",
    "    i=i+1"
   ]
  },
  {
   "cell_type": "code",
   "execution_count": 4,
   "id": "f1975725",
   "metadata": {},
   "outputs": [
    {
     "name": "stdout",
     "output_type": "stream",
     "text": [
      "SHIVESH 0\n",
      "SHIVESH 1\n",
      "SHIVESH 2\n",
      "SHIVESH 3\n",
      "SHIVESH 4\n",
      "SHIVESH 5\n",
      "SHIVESH 6\n",
      "SHIVESH 7\n",
      "SHIVESH 8\n",
      "SHIVESH 9\n"
     ]
    }
   ],
   "source": [
    "i=0\n",
    "while i<10:\n",
    "    print(\"SHIVESH \" + str(i))\n",
    "    i=i+1"
   ]
  },
  {
   "cell_type": "code",
   "execution_count": 5,
   "id": "f146e6e4",
   "metadata": {},
   "outputs": [
    {
     "name": "stdout",
     "output_type": "stream",
     "text": [
      "SHIVESH 0\n",
      "SHIVESH 1\n",
      "SHIVESH 2\n",
      "SHIVESH 3\n",
      "SHIVESH 4\n",
      "SHIVESH 5\n",
      "SHIVESH 6\n",
      "SHIVESH 7\n",
      "SHIVESH 8\n",
      "SHIVESH 9\n",
      "Done\n"
     ]
    }
   ],
   "source": [
    "i=0\n",
    "while i<10:\n",
    "    print(\"SHIVESH \" + str(i))\n",
    "    i=i+1\n",
    "print(\"Done\")"
   ]
  },
  {
   "cell_type": "code",
   "execution_count": 9,
   "id": "61d9f4ed",
   "metadata": {},
   "outputs": [
    {
     "name": "stdout",
     "output_type": "stream",
     "text": [
      "1\n",
      "2\n",
      "3\n",
      "4\n",
      "5\n",
      "6\n",
      "7\n",
      "8\n",
      "9\n",
      "10\n",
      "11\n",
      "12\n",
      "13\n",
      "14\n",
      "15\n",
      "16\n",
      "17\n",
      "18\n",
      "19\n",
      "20\n",
      "21\n",
      "22\n",
      "23\n",
      "24\n",
      "25\n",
      "26\n",
      "27\n",
      "28\n",
      "29\n",
      "30\n",
      "31\n",
      "32\n",
      "33\n",
      "34\n",
      "35\n",
      "36\n",
      "37\n",
      "38\n",
      "39\n",
      "40\n",
      "41\n",
      "42\n",
      "43\n",
      "44\n",
      "45\n",
      "46\n",
      "47\n",
      "48\n",
      "49\n",
      "50\n"
     ]
    }
   ],
   "source": [
    "i=1\n",
    "while i<=50:\n",
    "    print(i)\n",
    "    i=i+1"
   ]
  },
  {
   "cell_type": "markdown",
   "id": "74e2ea45",
   "metadata": {},
   "source": [
    "# for loop"
   ]
  },
  {
   "cell_type": "code",
   "execution_count": 13,
   "id": "0c89892f",
   "metadata": {},
   "outputs": [
    {
     "name": "stdout",
     "output_type": "stream",
     "text": [
      "1\n",
      "7\n",
      "8\n",
      "9\n"
     ]
    }
   ],
   "source": [
    "l=[1,7,8,9]\n",
    "for item in l:\n",
    "    print(item)"
   ]
  },
  {
   "cell_type": "code",
   "execution_count": 20,
   "id": "38cd8972",
   "metadata": {},
   "outputs": [
    {
     "name": "stdout",
     "output_type": "stream",
     "text": [
      "0\n",
      "1\n",
      "2\n",
      "3\n",
      "4\n",
      "5\n"
     ]
    }
   ],
   "source": [
    "for i in range(10):\n",
    "    print(i)\n",
    "    if i==5:\n",
    "        break"
   ]
  },
  {
   "cell_type": "markdown",
   "id": "302e0842",
   "metadata": {},
   "source": [
    "# functions "
   ]
  },
  {
   "cell_type": "code",
   "execution_count": 25,
   "id": "f11a93fe",
   "metadata": {},
   "outputs": [],
   "source": [
    "def shivu ():\n",
    "    print(\"shivesh\")"
   ]
  },
  {
   "cell_type": "code",
   "execution_count": 27,
   "id": "5126de7d",
   "metadata": {},
   "outputs": [
    {
     "name": "stdout",
     "output_type": "stream",
     "text": [
      "shivesh\n"
     ]
    }
   ],
   "source": [
    "shivu()"
   ]
  },
  {
   "cell_type": "code",
   "execution_count": 36,
   "id": "bf75a77e",
   "metadata": {},
   "outputs": [],
   "source": [
    "def greet(name):\n",
    "    print(\"good day,\"+ name)"
   ]
  },
  {
   "cell_type": "code",
   "execution_count": 37,
   "id": "4672a2a2",
   "metadata": {},
   "outputs": [
    {
     "name": "stdout",
     "output_type": "stream",
     "text": [
      "good day,shivesh\n"
     ]
    }
   ],
   "source": [
    "greet(\"shivesh\")"
   ]
  }
 ],
 "metadata": {
  "kernelspec": {
   "display_name": "Python 3 (ipykernel)",
   "language": "python",
   "name": "python3"
  },
  "language_info": {
   "codemirror_mode": {
    "name": "ipython",
    "version": 3
   },
   "file_extension": ".py",
   "mimetype": "text/x-python",
   "name": "python",
   "nbconvert_exporter": "python",
   "pygments_lexer": "ipython3",
   "version": "3.9.13"
  }
 },
 "nbformat": 4,
 "nbformat_minor": 5
}
